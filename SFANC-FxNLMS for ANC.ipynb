{
 "cells": [
  {
   "cell_type": "code",
   "execution_count": 4,
   "id": "439d8546",
   "metadata": {},
   "outputs": [
    {
     "ename": "ModuleNotFoundError",
     "evalue": "No module named 'matplotlib'",
     "output_type": "error",
     "traceback": [
      "\u001b[31m---------------------------------------------------------------------------\u001b[39m",
      "\u001b[31mModuleNotFoundError\u001b[39m                       Traceback (most recent call last)",
      "\u001b[36mCell\u001b[39m\u001b[36m \u001b[39m\u001b[32mIn[4]\u001b[39m\u001b[32m, line 1\u001b[39m\n\u001b[32m----> \u001b[39m\u001b[32m1\u001b[39m \u001b[38;5;28;01mimport\u001b[39;00m\u001b[38;5;250m \u001b[39m\u001b[34;01mmatplotlib\u001b[39;00m\u001b[34;01m.\u001b[39;00m\u001b[34;01mpyplot\u001b[39;00m\u001b[38;5;250m \u001b[39m\u001b[38;5;28;01mas\u001b[39;00m\u001b[38;5;250m \u001b[39m\u001b[34;01mplt\u001b[39;00m\n\u001b[32m      2\u001b[39m \u001b[38;5;28;01mimport\u001b[39;00m\u001b[38;5;250m \u001b[39m\u001b[34;01mnumpy\u001b[39;00m\u001b[38;5;250m \u001b[39m\u001b[38;5;28;01mas\u001b[39;00m\u001b[38;5;250m \u001b[39m\u001b[34;01mnp\u001b[39;00m\n\u001b[32m      3\u001b[39m \u001b[38;5;28;01mimport\u001b[39;00m\u001b[38;5;250m \u001b[39m\u001b[34;01mtorch\u001b[39;00m\n",
      "\u001b[31mModuleNotFoundError\u001b[39m: No module named 'matplotlib'"
     ]
    }
   ],
   "source": [
    "import matplotlib.pyplot as plt\n",
    "import numpy as np\n",
    "import torch\n",
    "from scipy.io import savemat\n",
    "import math\n",
    "from loading_real_wave_noise import loading_real_wave_noise\n",
    "from Reading_path_test import loading_paths_from_MAT\n",
    "from Control_filter_selection import Control_filter_selection\n",
    "from FxNLMS_algorithm import FxNLMS, train_fxnlms_algorithm\n",
    "from Disturbance_generation import Disturbance_generation_from_real_noise\n",
    "from Combine_SFANC_with_FxNLMS import SFANC_FxNLMS\n",
    "\n",
    "print(torch.cuda.is_available())"
   ]
  },
  {
   "cell_type": "code",
   "execution_count": null,
   "id": "874b6677",
   "metadata": {},
   "outputs": [
    {
     "name": "stderr",
     "output_type": "stream",
     "text": [
      "C:\\Users\\devan\\AppData\\Roaming\\Python\\Python313\\site-packages\\torchaudio\\_backend\\utils.py:213: UserWarning: In 2.9, this function's implementation will be changed to use torchaudio.load_with_torchcodec` under the hood. Some parameters like ``normalize``, ``format``, ``buffer_size``, and ``backend`` will be ignored. We recommend that you port your code to rely directly on TorchCodec's decoder instead: https://docs.pytorch.org/torchcodec/stable/generated/torchcodec.decoders.AudioDecoder.html#torchcodec.decoders.AudioDecoder.\n",
      "  warnings.warn(\n"
     ]
    }
   ],
   "source": [
    "# real noises\n",
    "fs = 16000\n",
    "StepSize = 0.0001\n",
    "sound_name = 'Mix_Aircraft_Traffic'\n",
    "waveform, resample_rate = loading_real_wave_noise(folde_name='Real Noise Examples/', sound_name=sound_name+'.wav')"
   ]
  },
  {
   "cell_type": "code",
   "execution_count": null,
   "id": "1e401820",
   "metadata": {},
   "outputs": [
    {
     "ename": "NameError",
     "evalue": "name 'loading_paths_from_MAT' is not defined",
     "output_type": "error",
     "traceback": [
      "\u001b[31m---------------------------------------------------------------------------\u001b[39m",
      "\u001b[31mNameError\u001b[39m                                 Traceback (most recent call last)",
      "\u001b[36mCell\u001b[39m\u001b[36m \u001b[39m\u001b[32mIn[1]\u001b[39m\u001b[32m, line 1\u001b[39m\n\u001b[32m----> \u001b[39m\u001b[32m1\u001b[39m Pri_path, Secon_path = \u001b[43mloading_paths_from_MAT\u001b[49m(folder=\u001b[33m'\u001b[39m\u001b[33mPz and Sz\u001b[39m\u001b[33m'\u001b[39m, subfolder=\u001b[33m'\u001b[39m\u001b[33mDongyuan\u001b[39m\u001b[33m'\u001b[39m, Pri_path_file_name=\u001b[33m'\u001b[39m\u001b[33mPrimary_path.mat\u001b[39m\u001b[33m'\u001b[39m, Sec_path_file_name=\u001b[33m'\u001b[39m\u001b[33mSecondary_path.mat\u001b[39m\u001b[33m'\u001b[39m)\n\u001b[32m      2\u001b[39m Dis, Fx, Re = Disturbance_generation_from_real_noise(fs=fs, Repet=\u001b[32m0\u001b[39m, wave_form=waveform, Pri_path=Pri_path, Sec_path=Secon_path)\n\u001b[32m      3\u001b[39m \u001b[38;5;66;03m# Dis: disturbance (cotrolled noise)， Fx: fixed-x signal, Re: repeated waveform (primary_noise) Repetition=Repet+1\u001b[39;00m\n",
      "\u001b[31mNameError\u001b[39m: name 'loading_paths_from_MAT' is not defined"
     ]
    }
   ],
   "source": [
    "Pri_path, Secon_path = loading_paths_from_MAT(folder='Pz and Sz', subfolder='Dongyuan', Pri_path_file_name='Primary_path.mat', Sec_path_file_name='Secondary_path.mat')\n",
    "Dis, Fx, Re = Disturbance_generation_from_real_noise(fs=fs, Repet=0, wave_form=waveform, Pri_path=Pri_path, Sec_path=Secon_path)\n",
    "# Dis: disturbance (cotrolled noise)， Fx: fixed-x signal, Re: repeated waveform (primary_noise) Repetition=Repet+1"
   ]
  },
  {
   "cell_type": "code",
   "execution_count": null,
   "id": "03b8b87b",
   "metadata": {},
   "outputs": [],
   "source": [
    "print(waveform.shape)\n",
    "print(Re.shape)\n",
    "print(Dis.shape)\n",
    "\n",
    "import matplotlib as mpl\n",
    "mpl.rcParams['agg.path.chunksize'] = 10000"
   ]
  },
  {
   "cell_type": "code",
   "execution_count": null,
   "id": "8b1b9eb8",
   "metadata": {},
   "outputs": [],
   "source": [
    "# FxNLMS\n",
    "\n",
    "controller = FxNLMS(Len=1024) # 1024 is the same size of coeffient vector of fixed-filter\n",
    "ErrorFxNLMS = train_fxnlms_algorithm(Model=controller, Ref=Fx, Disturbance=Dis, Stepsize=StepSize)\n",
    "\n",
    "plt.title('The FxNLMS Algorithm')\n",
    "plt.plot(Time, Dis, color='blue', label='ANC off')\n",
    "plt.plot(Time, ErrorFxNLMS, color='green', label='ANC on')\n",
    "plt.ylabel('Magnitude')\n",
    "plt.xlabel('Time (seconds)')\n",
    "plt.legend()\n",
    "plt.grid()\n",
    "plt.savefig('FxNLMS.pdf', dpi=600, bbox_inches='tight', pad_inches=0)\n",
    "plt.show()"
   ]
  },
  {
   "cell_type": "code",
   "execution_count": null,
   "id": "2de5536c",
   "metadata": {},
   "outputs": [],
   "source": [
    "# Combine SFANC with FxNLMS\n",
    "\n",
    "# prediction index\n",
    "id_vector = Control_filter_selection(fs=16000, Primary_noise=Re.unsqueeze(0)) # Primary_noise: torch.Size([1, XX])\n",
    "print(id_vector)\n",
    "\n",
    "# Using prediction index in SFANC_FxNLMS\n",
    "FILE_NAME_PATH = 'Trained models/Pretrained_Control_filters.mat'\n",
    "SFANC_FxNLMS_Cancellation = SFANC_FxNLMS(MAT_FILE=FILE_NAME_PATH, fs=16000)\n",
    "Error_SFANC_FxNLMS = SFANC_FxNLMS_Cancellation.noise_cancellation(Dis=Dis, Fx=Fx, filter_index=id_vector, Stepsize=StepSize)\n",
    "\n",
    "plt.title('The Hybrid SFANC-FxNLMS Algorithm')\n",
    "plt.plot(Time, Dis, color='blue', label='ANC off')\n",
    "plt.plot(Time, Error_SFANC_FxNLMS, color='red', label='ANC on')\n",
    "plt.ylabel('Magnitude')\n",
    "plt.xlabel('Time (seconds)')\n",
    "plt.legend()\n",
    "plt.grid()\n",
    "plt.savefig('SFANC_FxNLMS.pdf', dpi=600, bbox_inches='tight', pad_inches=0)\n",
    "plt.show()"
   ]
  }
 ],
 "metadata": {
  "kernelspec": {
   "display_name": ".venv",
   "language": "python",
   "name": "python3"
  },
  "language_info": {
   "codemirror_mode": {
    "name": "ipython",
    "version": 3
   },
   "file_extension": ".py",
   "mimetype": "text/x-python",
   "name": "python",
   "nbconvert_exporter": "python",
   "pygments_lexer": "ipython3",
   "version": "3.13.3"
  }
 },
 "nbformat": 4,
 "nbformat_minor": 5
}
